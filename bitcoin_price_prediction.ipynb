{
 "cells": [
  {
   "cell_type": "markdown",
   "metadata": {},
   "source": [
    "# Bitcoin price prediction\n",
    "\n",
    "Examine bitcoin prices and see if we can predict its future price."
   ]
  },
  {
   "cell_type": "code",
   "execution_count": 2,
   "metadata": {},
   "outputs": [],
   "source": [
    "%matplotlib inline\n",
    "import matplotlib.pyplot as plt\n",
    "import numpy as np\n",
    "import pandas as pd"
   ]
  },
  {
   "cell_type": "code",
   "execution_count": 3,
   "metadata": {},
   "outputs": [
    {
     "name": "stdout",
     "output_type": "stream",
     "text": [
      "Wall time: 2.64 s\n"
     ]
    },
    {
     "data": {
      "text/html": [
       "<div>\n",
       "<style scoped>\n",
       "    .dataframe tbody tr th:only-of-type {\n",
       "        vertical-align: middle;\n",
       "    }\n",
       "\n",
       "    .dataframe tbody tr th {\n",
       "        vertical-align: top;\n",
       "    }\n",
       "\n",
       "    .dataframe thead th {\n",
       "        text-align: right;\n",
       "    }\n",
       "</style>\n",
       "<table border=\"1\" class=\"dataframe\">\n",
       "  <thead>\n",
       "    <tr style=\"text-align: right;\">\n",
       "      <th></th>\n",
       "      <th>Timestamp</th>\n",
       "      <th>Open</th>\n",
       "      <th>High</th>\n",
       "      <th>Low</th>\n",
       "      <th>Close</th>\n",
       "      <th>Volume_(BTC)</th>\n",
       "      <th>Volume_(Currency)</th>\n",
       "      <th>Weighted_Price</th>\n",
       "    </tr>\n",
       "  </thead>\n",
       "  <tbody>\n",
       "    <tr>\n",
       "      <th>0</th>\n",
       "      <td>1417411980</td>\n",
       "      <td>300.0</td>\n",
       "      <td>300.0</td>\n",
       "      <td>300.0</td>\n",
       "      <td>300.0</td>\n",
       "      <td>0.01</td>\n",
       "      <td>3.0</td>\n",
       "      <td>300.0</td>\n",
       "    </tr>\n",
       "    <tr>\n",
       "      <th>1</th>\n",
       "      <td>1417412040</td>\n",
       "      <td>300.0</td>\n",
       "      <td>300.0</td>\n",
       "      <td>300.0</td>\n",
       "      <td>300.0</td>\n",
       "      <td>0.01</td>\n",
       "      <td>3.0</td>\n",
       "      <td>300.0</td>\n",
       "    </tr>\n",
       "    <tr>\n",
       "      <th>2</th>\n",
       "      <td>1417412100</td>\n",
       "      <td>300.0</td>\n",
       "      <td>300.0</td>\n",
       "      <td>300.0</td>\n",
       "      <td>300.0</td>\n",
       "      <td>0.01</td>\n",
       "      <td>3.0</td>\n",
       "      <td>300.0</td>\n",
       "    </tr>\n",
       "    <tr>\n",
       "      <th>3</th>\n",
       "      <td>1417412160</td>\n",
       "      <td>300.0</td>\n",
       "      <td>300.0</td>\n",
       "      <td>300.0</td>\n",
       "      <td>300.0</td>\n",
       "      <td>0.01</td>\n",
       "      <td>3.0</td>\n",
       "      <td>300.0</td>\n",
       "    </tr>\n",
       "    <tr>\n",
       "      <th>4</th>\n",
       "      <td>1417412220</td>\n",
       "      <td>300.0</td>\n",
       "      <td>300.0</td>\n",
       "      <td>300.0</td>\n",
       "      <td>300.0</td>\n",
       "      <td>0.01</td>\n",
       "      <td>3.0</td>\n",
       "      <td>300.0</td>\n",
       "    </tr>\n",
       "    <tr>\n",
       "      <th>5</th>\n",
       "      <td>1417412280</td>\n",
       "      <td>300.0</td>\n",
       "      <td>300.0</td>\n",
       "      <td>300.0</td>\n",
       "      <td>300.0</td>\n",
       "      <td>0.01</td>\n",
       "      <td>3.0</td>\n",
       "      <td>300.0</td>\n",
       "    </tr>\n",
       "    <tr>\n",
       "      <th>6</th>\n",
       "      <td>1417412340</td>\n",
       "      <td>300.0</td>\n",
       "      <td>300.0</td>\n",
       "      <td>300.0</td>\n",
       "      <td>300.0</td>\n",
       "      <td>0.01</td>\n",
       "      <td>3.0</td>\n",
       "      <td>300.0</td>\n",
       "    </tr>\n",
       "    <tr>\n",
       "      <th>7</th>\n",
       "      <td>1417412400</td>\n",
       "      <td>300.0</td>\n",
       "      <td>300.0</td>\n",
       "      <td>300.0</td>\n",
       "      <td>300.0</td>\n",
       "      <td>0.01</td>\n",
       "      <td>3.0</td>\n",
       "      <td>300.0</td>\n",
       "    </tr>\n",
       "    <tr>\n",
       "      <th>8</th>\n",
       "      <td>1417412460</td>\n",
       "      <td>300.0</td>\n",
       "      <td>300.0</td>\n",
       "      <td>300.0</td>\n",
       "      <td>300.0</td>\n",
       "      <td>0.01</td>\n",
       "      <td>3.0</td>\n",
       "      <td>300.0</td>\n",
       "    </tr>\n",
       "    <tr>\n",
       "      <th>9</th>\n",
       "      <td>1417412520</td>\n",
       "      <td>300.0</td>\n",
       "      <td>300.0</td>\n",
       "      <td>300.0</td>\n",
       "      <td>300.0</td>\n",
       "      <td>0.01</td>\n",
       "      <td>3.0</td>\n",
       "      <td>300.0</td>\n",
       "    </tr>\n",
       "    <tr>\n",
       "      <th>10</th>\n",
       "      <td>1417412580</td>\n",
       "      <td>300.0</td>\n",
       "      <td>300.0</td>\n",
       "      <td>300.0</td>\n",
       "      <td>300.0</td>\n",
       "      <td>0.01</td>\n",
       "      <td>3.0</td>\n",
       "      <td>300.0</td>\n",
       "    </tr>\n",
       "    <tr>\n",
       "      <th>11</th>\n",
       "      <td>1417412640</td>\n",
       "      <td>300.0</td>\n",
       "      <td>300.0</td>\n",
       "      <td>300.0</td>\n",
       "      <td>300.0</td>\n",
       "      <td>0.01</td>\n",
       "      <td>3.0</td>\n",
       "      <td>300.0</td>\n",
       "    </tr>\n",
       "    <tr>\n",
       "      <th>12</th>\n",
       "      <td>1417412700</td>\n",
       "      <td>300.0</td>\n",
       "      <td>300.0</td>\n",
       "      <td>300.0</td>\n",
       "      <td>300.0</td>\n",
       "      <td>0.01</td>\n",
       "      <td>3.0</td>\n",
       "      <td>300.0</td>\n",
       "    </tr>\n",
       "    <tr>\n",
       "      <th>13</th>\n",
       "      <td>1417412760</td>\n",
       "      <td>300.0</td>\n",
       "      <td>300.0</td>\n",
       "      <td>300.0</td>\n",
       "      <td>300.0</td>\n",
       "      <td>0.01</td>\n",
       "      <td>3.0</td>\n",
       "      <td>300.0</td>\n",
       "    </tr>\n",
       "    <tr>\n",
       "      <th>14</th>\n",
       "      <td>1417412820</td>\n",
       "      <td>300.0</td>\n",
       "      <td>300.0</td>\n",
       "      <td>300.0</td>\n",
       "      <td>300.0</td>\n",
       "      <td>0.01</td>\n",
       "      <td>3.0</td>\n",
       "      <td>300.0</td>\n",
       "    </tr>\n",
       "    <tr>\n",
       "      <th>15</th>\n",
       "      <td>1417412880</td>\n",
       "      <td>300.0</td>\n",
       "      <td>300.0</td>\n",
       "      <td>300.0</td>\n",
       "      <td>300.0</td>\n",
       "      <td>0.01</td>\n",
       "      <td>3.0</td>\n",
       "      <td>300.0</td>\n",
       "    </tr>\n",
       "    <tr>\n",
       "      <th>16</th>\n",
       "      <td>1417412940</td>\n",
       "      <td>300.0</td>\n",
       "      <td>300.0</td>\n",
       "      <td>300.0</td>\n",
       "      <td>300.0</td>\n",
       "      <td>0.01</td>\n",
       "      <td>3.0</td>\n",
       "      <td>300.0</td>\n",
       "    </tr>\n",
       "    <tr>\n",
       "      <th>17</th>\n",
       "      <td>1417413000</td>\n",
       "      <td>300.0</td>\n",
       "      <td>300.0</td>\n",
       "      <td>300.0</td>\n",
       "      <td>300.0</td>\n",
       "      <td>0.01</td>\n",
       "      <td>3.0</td>\n",
       "      <td>300.0</td>\n",
       "    </tr>\n",
       "    <tr>\n",
       "      <th>18</th>\n",
       "      <td>1417413060</td>\n",
       "      <td>300.0</td>\n",
       "      <td>300.0</td>\n",
       "      <td>300.0</td>\n",
       "      <td>300.0</td>\n",
       "      <td>0.01</td>\n",
       "      <td>3.0</td>\n",
       "      <td>300.0</td>\n",
       "    </tr>\n",
       "    <tr>\n",
       "      <th>19</th>\n",
       "      <td>1417413120</td>\n",
       "      <td>300.0</td>\n",
       "      <td>300.0</td>\n",
       "      <td>300.0</td>\n",
       "      <td>300.0</td>\n",
       "      <td>0.01</td>\n",
       "      <td>3.0</td>\n",
       "      <td>300.0</td>\n",
       "    </tr>\n",
       "  </tbody>\n",
       "</table>\n",
       "</div>"
      ],
      "text/plain": [
       "     Timestamp   Open   High    Low  Close  Volume_(BTC)  Volume_(Currency)  \\\n",
       "0   1417411980  300.0  300.0  300.0  300.0          0.01                3.0   \n",
       "1   1417412040  300.0  300.0  300.0  300.0          0.01                3.0   \n",
       "2   1417412100  300.0  300.0  300.0  300.0          0.01                3.0   \n",
       "3   1417412160  300.0  300.0  300.0  300.0          0.01                3.0   \n",
       "4   1417412220  300.0  300.0  300.0  300.0          0.01                3.0   \n",
       "5   1417412280  300.0  300.0  300.0  300.0          0.01                3.0   \n",
       "6   1417412340  300.0  300.0  300.0  300.0          0.01                3.0   \n",
       "7   1417412400  300.0  300.0  300.0  300.0          0.01                3.0   \n",
       "8   1417412460  300.0  300.0  300.0  300.0          0.01                3.0   \n",
       "9   1417412520  300.0  300.0  300.0  300.0          0.01                3.0   \n",
       "10  1417412580  300.0  300.0  300.0  300.0          0.01                3.0   \n",
       "11  1417412640  300.0  300.0  300.0  300.0          0.01                3.0   \n",
       "12  1417412700  300.0  300.0  300.0  300.0          0.01                3.0   \n",
       "13  1417412760  300.0  300.0  300.0  300.0          0.01                3.0   \n",
       "14  1417412820  300.0  300.0  300.0  300.0          0.01                3.0   \n",
       "15  1417412880  300.0  300.0  300.0  300.0          0.01                3.0   \n",
       "16  1417412940  300.0  300.0  300.0  300.0          0.01                3.0   \n",
       "17  1417413000  300.0  300.0  300.0  300.0          0.01                3.0   \n",
       "18  1417413060  300.0  300.0  300.0  300.0          0.01                3.0   \n",
       "19  1417413120  300.0  300.0  300.0  300.0          0.01                3.0   \n",
       "\n",
       "    Weighted_Price  \n",
       "0            300.0  \n",
       "1            300.0  \n",
       "2            300.0  \n",
       "3            300.0  \n",
       "4            300.0  \n",
       "5            300.0  \n",
       "6            300.0  \n",
       "7            300.0  \n",
       "8            300.0  \n",
       "9            300.0  \n",
       "10           300.0  \n",
       "11           300.0  \n",
       "12           300.0  \n",
       "13           300.0  \n",
       "14           300.0  \n",
       "15           300.0  \n",
       "16           300.0  \n",
       "17           300.0  \n",
       "18           300.0  \n",
       "19           300.0  "
      ]
     },
     "execution_count": 3,
     "metadata": {},
     "output_type": "execute_result"
    }
   ],
   "source": [
    "%%time\n",
    "# Resampling data from minute interval to day\n",
    "bit_df = pd.read_csv('Data/coinbaseUSD_1-min_data_2014-12-01_to_2018-01-08.csv')\n",
    "bit_df.head(20)"
   ]
  },
  {
   "cell_type": "code",
   "execution_count": 4,
   "metadata": {},
   "outputs": [
    {
     "data": {
      "text/html": [
       "<div>\n",
       "<style scoped>\n",
       "    .dataframe tbody tr th:only-of-type {\n",
       "        vertical-align: middle;\n",
       "    }\n",
       "\n",
       "    .dataframe tbody tr th {\n",
       "        vertical-align: top;\n",
       "    }\n",
       "\n",
       "    .dataframe thead th {\n",
       "        text-align: right;\n",
       "    }\n",
       "</style>\n",
       "<table border=\"1\" class=\"dataframe\">\n",
       "  <thead>\n",
       "    <tr style=\"text-align: right;\">\n",
       "      <th></th>\n",
       "      <th>Timestamp</th>\n",
       "      <th>Open</th>\n",
       "      <th>High</th>\n",
       "      <th>Low</th>\n",
       "      <th>Close</th>\n",
       "      <th>Volume_(BTC)</th>\n",
       "      <th>Volume_(Currency)</th>\n",
       "      <th>Weighted_Price</th>\n",
       "    </tr>\n",
       "  </thead>\n",
       "  <tbody>\n",
       "    <tr>\n",
       "      <th>1574269</th>\n",
       "      <td>1515369360</td>\n",
       "      <td>16174.21</td>\n",
       "      <td>16174.23</td>\n",
       "      <td>16174.21</td>\n",
       "      <td>16174.23</td>\n",
       "      <td>7.594119</td>\n",
       "      <td>122828.956770</td>\n",
       "      <td>16174.221301</td>\n",
       "    </tr>\n",
       "    <tr>\n",
       "      <th>1574270</th>\n",
       "      <td>1515369420</td>\n",
       "      <td>16174.23</td>\n",
       "      <td>16174.23</td>\n",
       "      <td>16174.21</td>\n",
       "      <td>16174.22</td>\n",
       "      <td>11.902468</td>\n",
       "      <td>192513.150940</td>\n",
       "      <td>16174.221081</td>\n",
       "    </tr>\n",
       "    <tr>\n",
       "      <th>1574271</th>\n",
       "      <td>1515369480</td>\n",
       "      <td>16174.22</td>\n",
       "      <td>16174.22</td>\n",
       "      <td>16174.21</td>\n",
       "      <td>16174.21</td>\n",
       "      <td>3.860840</td>\n",
       "      <td>62446.073684</td>\n",
       "      <td>16174.218136</td>\n",
       "    </tr>\n",
       "    <tr>\n",
       "      <th>1574272</th>\n",
       "      <td>1515369540</td>\n",
       "      <td>16174.22</td>\n",
       "      <td>16174.22</td>\n",
       "      <td>16174.21</td>\n",
       "      <td>16174.22</td>\n",
       "      <td>1.179093</td>\n",
       "      <td>19070.914509</td>\n",
       "      <td>16174.219514</td>\n",
       "    </tr>\n",
       "    <tr>\n",
       "      <th>1574273</th>\n",
       "      <td>1515369600</td>\n",
       "      <td>16174.22</td>\n",
       "      <td>16174.23</td>\n",
       "      <td>16174.22</td>\n",
       "      <td>16174.22</td>\n",
       "      <td>5.401224</td>\n",
       "      <td>87360.593222</td>\n",
       "      <td>16174.220219</td>\n",
       "    </tr>\n",
       "  </tbody>\n",
       "</table>\n",
       "</div>"
      ],
      "text/plain": [
       "          Timestamp      Open      High       Low     Close  Volume_(BTC)  \\\n",
       "1574269  1515369360  16174.21  16174.23  16174.21  16174.23      7.594119   \n",
       "1574270  1515369420  16174.23  16174.23  16174.21  16174.22     11.902468   \n",
       "1574271  1515369480  16174.22  16174.22  16174.21  16174.21      3.860840   \n",
       "1574272  1515369540  16174.22  16174.22  16174.21  16174.22      1.179093   \n",
       "1574273  1515369600  16174.22  16174.23  16174.22  16174.22      5.401224   \n",
       "\n",
       "         Volume_(Currency)  Weighted_Price  \n",
       "1574269      122828.956770    16174.221301  \n",
       "1574270      192513.150940    16174.221081  \n",
       "1574271       62446.073684    16174.218136  \n",
       "1574272       19070.914509    16174.219514  \n",
       "1574273       87360.593222    16174.220219  "
      ]
     },
     "execution_count": 4,
     "metadata": {},
     "output_type": "execute_result"
    }
   ],
   "source": [
    "bit_df.tail()"
   ]
  },
  {
   "cell_type": "code",
   "execution_count": 5,
   "metadata": {},
   "outputs": [
    {
     "name": "stdout",
     "output_type": "stream",
     "text": [
      "Wall time: 651 ms\n"
     ]
    }
   ],
   "source": [
    "%%time\n",
    "# Convert unix time to datetime\n",
    "bit_df['date'] = pd.to_datetime(bit_df.Timestamp, unit='s')\n",
    "# Reset index\n",
    "bit_df = bit_df.set_index('date')\n",
    "# Rename columns so easier to code\n",
    "bit_df = bit_df.rename(columns={'Open':'open', 'High': 'hi', 'Low': 'lo', \n",
    "                       'Close': 'close', 'Volume_(BTC)': 'vol_btc',\n",
    "                       'Volume_(Currency)': 'vol_cur', \n",
    "                       'Weighted_Price': 'wp', 'Timestamp': 'ts'})\n",
    "# Resample and only use recent samples that aren't missing\n",
    "bit_df = bit_df.resample('d').agg({'open': 'first', 'hi': 'max', \n",
    "    'lo': 'min', 'close': 'last', 'vol_btc': 'sum',\n",
    "    'vol_cur': 'sum', 'wp': 'mean', 'ts': 'min'}).iloc[-1000:]\n",
    "# drop last row as it is not complete\n",
    "bit_df = bit_df.iloc[:-1]"
   ]
  },
  {
   "cell_type": "code",
   "execution_count": 6,
   "metadata": {
    "scrolled": true
   },
   "outputs": [
    {
     "data": {
      "text/plain": [
       "(999, 8)"
      ]
     },
     "execution_count": 6,
     "metadata": {},
     "output_type": "execute_result"
    }
   ],
   "source": [
    "bit_df.shape"
   ]
  },
  {
   "cell_type": "code",
   "execution_count": 7,
   "metadata": {},
   "outputs": [
    {
     "data": {
      "text/html": [
       "<div>\n",
       "<style scoped>\n",
       "    .dataframe tbody tr th:only-of-type {\n",
       "        vertical-align: middle;\n",
       "    }\n",
       "\n",
       "    .dataframe tbody tr th {\n",
       "        vertical-align: top;\n",
       "    }\n",
       "\n",
       "    .dataframe thead th {\n",
       "        text-align: right;\n",
       "    }\n",
       "</style>\n",
       "<table border=\"1\" class=\"dataframe\">\n",
       "  <thead>\n",
       "    <tr style=\"text-align: right;\">\n",
       "      <th></th>\n",
       "      <th>open</th>\n",
       "      <th>hi</th>\n",
       "      <th>lo</th>\n",
       "      <th>close</th>\n",
       "      <th>vol_btc</th>\n",
       "      <th>vol_cur</th>\n",
       "      <th>wp</th>\n",
       "      <th>ts</th>\n",
       "    </tr>\n",
       "    <tr>\n",
       "      <th>date</th>\n",
       "      <th></th>\n",
       "      <th></th>\n",
       "      <th></th>\n",
       "      <th></th>\n",
       "      <th></th>\n",
       "      <th></th>\n",
       "      <th></th>\n",
       "      <th></th>\n",
       "    </tr>\n",
       "  </thead>\n",
       "  <tbody>\n",
       "    <tr>\n",
       "      <th>2015-04-15</th>\n",
       "      <td>221.05</td>\n",
       "      <td>224.52</td>\n",
       "      <td>218.09</td>\n",
       "      <td>224.35</td>\n",
       "      <td>9137.584626</td>\n",
       "      <td>2.029524e+06</td>\n",
       "      <td>222.270771</td>\n",
       "      <td>1.429056e+09</td>\n",
       "    </tr>\n",
       "    <tr>\n",
       "      <th>2015-04-16</th>\n",
       "      <td>224.35</td>\n",
       "      <td>230.75</td>\n",
       "      <td>223.66</td>\n",
       "      <td>229.45</td>\n",
       "      <td>8636.837666</td>\n",
       "      <td>1.970069e+06</td>\n",
       "      <td>227.779413</td>\n",
       "      <td>1.429142e+09</td>\n",
       "    </tr>\n",
       "    <tr>\n",
       "      <th>2015-04-17</th>\n",
       "      <td>229.45</td>\n",
       "      <td>230.08</td>\n",
       "      <td>220.46</td>\n",
       "      <td>223.62</td>\n",
       "      <td>7738.360003</td>\n",
       "      <td>1.741497e+06</td>\n",
       "      <td>224.970863</td>\n",
       "      <td>1.429229e+09</td>\n",
       "    </tr>\n",
       "    <tr>\n",
       "      <th>2015-04-18</th>\n",
       "      <td>223.55</td>\n",
       "      <td>224.04</td>\n",
       "      <td>222.18</td>\n",
       "      <td>224.02</td>\n",
       "      <td>5065.649127</td>\n",
       "      <td>1.131269e+06</td>\n",
       "      <td>223.398170</td>\n",
       "      <td>1.429315e+09</td>\n",
       "    </tr>\n",
       "    <tr>\n",
       "      <th>2015-04-19</th>\n",
       "      <td>224.02</td>\n",
       "      <td>226.72</td>\n",
       "      <td>223.44</td>\n",
       "      <td>224.03</td>\n",
       "      <td>5279.787312</td>\n",
       "      <td>1.185860e+06</td>\n",
       "      <td>224.667792</td>\n",
       "      <td>1.429402e+09</td>\n",
       "    </tr>\n",
       "  </tbody>\n",
       "</table>\n",
       "</div>"
      ],
      "text/plain": [
       "              open      hi      lo   close      vol_btc       vol_cur  \\\n",
       "date                                                                    \n",
       "2015-04-15  221.05  224.52  218.09  224.35  9137.584626  2.029524e+06   \n",
       "2015-04-16  224.35  230.75  223.66  229.45  8636.837666  1.970069e+06   \n",
       "2015-04-17  229.45  230.08  220.46  223.62  7738.360003  1.741497e+06   \n",
       "2015-04-18  223.55  224.04  222.18  224.02  5065.649127  1.131269e+06   \n",
       "2015-04-19  224.02  226.72  223.44  224.03  5279.787312  1.185860e+06   \n",
       "\n",
       "                    wp            ts  \n",
       "date                                  \n",
       "2015-04-15  222.270771  1.429056e+09  \n",
       "2015-04-16  227.779413  1.429142e+09  \n",
       "2015-04-17  224.970863  1.429229e+09  \n",
       "2015-04-18  223.398170  1.429315e+09  \n",
       "2015-04-19  224.667792  1.429402e+09  "
      ]
     },
     "execution_count": 7,
     "metadata": {},
     "output_type": "execute_result"
    }
   ],
   "source": [
    "bit_df.head()"
   ]
  },
  {
   "cell_type": "code",
   "execution_count": 8,
   "metadata": {},
   "outputs": [
    {
     "data": {
      "text/html": [
       "<div>\n",
       "<style scoped>\n",
       "    .dataframe tbody tr th:only-of-type {\n",
       "        vertical-align: middle;\n",
       "    }\n",
       "\n",
       "    .dataframe tbody tr th {\n",
       "        vertical-align: top;\n",
       "    }\n",
       "\n",
       "    .dataframe thead th {\n",
       "        text-align: right;\n",
       "    }\n",
       "</style>\n",
       "<table border=\"1\" class=\"dataframe\">\n",
       "  <thead>\n",
       "    <tr style=\"text-align: right;\">\n",
       "      <th></th>\n",
       "      <th>open</th>\n",
       "      <th>hi</th>\n",
       "      <th>lo</th>\n",
       "      <th>close</th>\n",
       "      <th>vol_btc</th>\n",
       "      <th>vol_cur</th>\n",
       "      <th>wp</th>\n",
       "      <th>ts</th>\n",
       "    </tr>\n",
       "    <tr>\n",
       "      <th>date</th>\n",
       "      <th></th>\n",
       "      <th></th>\n",
       "      <th></th>\n",
       "      <th></th>\n",
       "      <th></th>\n",
       "      <th></th>\n",
       "      <th></th>\n",
       "      <th></th>\n",
       "    </tr>\n",
       "  </thead>\n",
       "  <tbody>\n",
       "    <tr>\n",
       "      <th>2018-01-03</th>\n",
       "      <td>14781.52</td>\n",
       "      <td>15400.00</td>\n",
       "      <td>14628.00</td>\n",
       "      <td>15098.14</td>\n",
       "      <td>17616.327677</td>\n",
       "      <td>2.642264e+08</td>\n",
       "      <td>14989.939350</td>\n",
       "      <td>1.514938e+09</td>\n",
       "    </tr>\n",
       "    <tr>\n",
       "      <th>2018-01-04</th>\n",
       "      <td>15098.23</td>\n",
       "      <td>15400.00</td>\n",
       "      <td>14230.00</td>\n",
       "      <td>15144.99</td>\n",
       "      <td>19567.016783</td>\n",
       "      <td>2.909045e+08</td>\n",
       "      <td>14851.477880</td>\n",
       "      <td>1.515024e+09</td>\n",
       "    </tr>\n",
       "    <tr>\n",
       "      <th>2018-01-05</th>\n",
       "      <td>15145.00</td>\n",
       "      <td>17178.00</td>\n",
       "      <td>14819.78</td>\n",
       "      <td>16960.01</td>\n",
       "      <td>22588.046307</td>\n",
       "      <td>3.619888e+08</td>\n",
       "      <td>15796.596968</td>\n",
       "      <td>1.515110e+09</td>\n",
       "    </tr>\n",
       "    <tr>\n",
       "      <th>2018-01-06</th>\n",
       "      <td>16960.01</td>\n",
       "      <td>17174.00</td>\n",
       "      <td>16251.01</td>\n",
       "      <td>17098.99</td>\n",
       "      <td>13744.804428</td>\n",
       "      <td>2.296885e+08</td>\n",
       "      <td>16661.988247</td>\n",
       "      <td>1.515197e+09</td>\n",
       "    </tr>\n",
       "    <tr>\n",
       "      <th>2018-01-07</th>\n",
       "      <td>17099.00</td>\n",
       "      <td>17115.01</td>\n",
       "      <td>15755.01</td>\n",
       "      <td>16174.22</td>\n",
       "      <td>12201.377159</td>\n",
       "      <td>2.002825e+08</td>\n",
       "      <td>16526.973583</td>\n",
       "      <td>1.515283e+09</td>\n",
       "    </tr>\n",
       "  </tbody>\n",
       "</table>\n",
       "</div>"
      ],
      "text/plain": [
       "                open        hi        lo     close       vol_btc  \\\n",
       "date                                                               \n",
       "2018-01-03  14781.52  15400.00  14628.00  15098.14  17616.327677   \n",
       "2018-01-04  15098.23  15400.00  14230.00  15144.99  19567.016783   \n",
       "2018-01-05  15145.00  17178.00  14819.78  16960.01  22588.046307   \n",
       "2018-01-06  16960.01  17174.00  16251.01  17098.99  13744.804428   \n",
       "2018-01-07  17099.00  17115.01  15755.01  16174.22  12201.377159   \n",
       "\n",
       "                 vol_cur            wp            ts  \n",
       "date                                                  \n",
       "2018-01-03  2.642264e+08  14989.939350  1.514938e+09  \n",
       "2018-01-04  2.909045e+08  14851.477880  1.515024e+09  \n",
       "2018-01-05  3.619888e+08  15796.596968  1.515110e+09  \n",
       "2018-01-06  2.296885e+08  16661.988247  1.515197e+09  \n",
       "2018-01-07  2.002825e+08  16526.973583  1.515283e+09  "
      ]
     },
     "execution_count": 8,
     "metadata": {},
     "output_type": "execute_result"
    }
   ],
   "source": [
    "bit_df.tail()"
   ]
  },
  {
   "cell_type": "markdown",
   "metadata": {},
   "source": [
    "## Predict tomorrow's close based on today's info\n",
    "First, predict the open price from the ts component."
   ]
  },
  {
   "cell_type": "code",
   "execution_count": 9,
   "metadata": {},
   "outputs": [],
   "source": [
    "from sklearn.metrics import mean_squared_error, r2_score\n",
    "from sklearn import metrics"
   ]
  },
  {
   "cell_type": "code",
   "execution_count": 10,
   "metadata": {},
   "outputs": [
    {
     "name": "stdout",
     "output_type": "stream",
     "text": [
      "<class 'pandas.core.frame.DataFrame'>\n",
      "DatetimeIndex: 999 entries, 2015-04-15 to 2018-01-07\n",
      "Freq: D\n",
      "Data columns (total 8 columns):\n",
      " #   Column   Non-Null Count  Dtype  \n",
      "---  ------   --------------  -----  \n",
      " 0   open     999 non-null    float64\n",
      " 1   hi       999 non-null    float64\n",
      " 2   lo       999 non-null    float64\n",
      " 3   close    999 non-null    float64\n",
      " 4   vol_btc  999 non-null    float64\n",
      " 5   vol_cur  999 non-null    float64\n",
      " 6   wp       999 non-null    float64\n",
      " 7   ts       999 non-null    float64\n",
      "dtypes: float64(8)\n",
      "memory usage: 70.2 KB\n"
     ]
    }
   ],
   "source": [
    "bit_df.info()"
   ]
  },
  {
   "cell_type": "code",
   "execution_count": 11,
   "metadata": {},
   "outputs": [
    {
     "data": {
      "text/html": [
       "<div>\n",
       "<style scoped>\n",
       "    .dataframe tbody tr th:only-of-type {\n",
       "        vertical-align: middle;\n",
       "    }\n",
       "\n",
       "    .dataframe tbody tr th {\n",
       "        vertical-align: top;\n",
       "    }\n",
       "\n",
       "    .dataframe thead th {\n",
       "        text-align: right;\n",
       "    }\n",
       "</style>\n",
       "<table border=\"1\" class=\"dataframe\">\n",
       "  <thead>\n",
       "    <tr style=\"text-align: right;\">\n",
       "      <th></th>\n",
       "      <th>open</th>\n",
       "      <th>hi</th>\n",
       "      <th>lo</th>\n",
       "      <th>close</th>\n",
       "      <th>vol_btc</th>\n",
       "      <th>vol_cur</th>\n",
       "      <th>wp</th>\n",
       "      <th>ts</th>\n",
       "    </tr>\n",
       "  </thead>\n",
       "  <tbody>\n",
       "    <tr>\n",
       "      <th>count</th>\n",
       "      <td>999.00000</td>\n",
       "      <td>999.000000</td>\n",
       "      <td>999.000000</td>\n",
       "      <td>999.000000</td>\n",
       "      <td>999.000000</td>\n",
       "      <td>9.990000e+02</td>\n",
       "      <td>999.000000</td>\n",
       "      <td>9.990000e+02</td>\n",
       "    </tr>\n",
       "    <tr>\n",
       "      <th>mean</th>\n",
       "      <td>1838.11015</td>\n",
       "      <td>1914.705946</td>\n",
       "      <td>1757.861101</td>\n",
       "      <td>1854.054895</td>\n",
       "      <td>10350.019927</td>\n",
       "      <td>3.553735e+07</td>\n",
       "      <td>1842.224578</td>\n",
       "      <td>1.472170e+09</td>\n",
       "    </tr>\n",
       "    <tr>\n",
       "      <th>std</th>\n",
       "      <td>3169.30283</td>\n",
       "      <td>3346.396825</td>\n",
       "      <td>2966.458499</td>\n",
       "      <td>3201.173766</td>\n",
       "      <td>9947.604406</td>\n",
       "      <td>1.097365e+08</td>\n",
       "      <td>3165.632076</td>\n",
       "      <td>2.492906e+07</td>\n",
       "    </tr>\n",
       "    <tr>\n",
       "      <th>min</th>\n",
       "      <td>211.16000</td>\n",
       "      <td>224.040000</td>\n",
       "      <td>0.060000</td>\n",
       "      <td>211.160000</td>\n",
       "      <td>1525.187302</td>\n",
       "      <td>7.925465e+05</td>\n",
       "      <td>215.969046</td>\n",
       "      <td>1.429056e+09</td>\n",
       "    </tr>\n",
       "    <tr>\n",
       "      <th>25%</th>\n",
       "      <td>384.61500</td>\n",
       "      <td>393.500000</td>\n",
       "      <td>371.300000</td>\n",
       "      <td>384.850000</td>\n",
       "      <td>5320.152105</td>\n",
       "      <td>2.297687e+06</td>\n",
       "      <td>384.227045</td>\n",
       "      <td>1.450613e+09</td>\n",
       "    </tr>\n",
       "    <tr>\n",
       "      <th>50%</th>\n",
       "      <td>629.79000</td>\n",
       "      <td>639.850000</td>\n",
       "      <td>618.130000</td>\n",
       "      <td>630.830000</td>\n",
       "      <td>7367.614526</td>\n",
       "      <td>3.484114e+06</td>\n",
       "      <td>632.673702</td>\n",
       "      <td>1.472170e+09</td>\n",
       "    </tr>\n",
       "    <tr>\n",
       "      <th>75%</th>\n",
       "      <td>1454.14500</td>\n",
       "      <td>1512.965000</td>\n",
       "      <td>1440.095000</td>\n",
       "      <td>1502.495000</td>\n",
       "      <td>11954.181722</td>\n",
       "      <td>1.985804e+07</td>\n",
       "      <td>1471.613323</td>\n",
       "      <td>1.493726e+09</td>\n",
       "    </tr>\n",
       "    <tr>\n",
       "      <th>max</th>\n",
       "      <td>19650.02000</td>\n",
       "      <td>19891.990000</td>\n",
       "      <td>19010.000000</td>\n",
       "      <td>19650.010000</td>\n",
       "      <td>165763.024424</td>\n",
       "      <td>1.393385e+09</td>\n",
       "      <td>19537.276941</td>\n",
       "      <td>1.515283e+09</td>\n",
       "    </tr>\n",
       "  </tbody>\n",
       "</table>\n",
       "</div>"
      ],
      "text/plain": [
       "              open            hi            lo         close        vol_btc  \\\n",
       "count    999.00000    999.000000    999.000000    999.000000     999.000000   \n",
       "mean    1838.11015   1914.705946   1757.861101   1854.054895   10350.019927   \n",
       "std     3169.30283   3346.396825   2966.458499   3201.173766    9947.604406   \n",
       "min      211.16000    224.040000      0.060000    211.160000    1525.187302   \n",
       "25%      384.61500    393.500000    371.300000    384.850000    5320.152105   \n",
       "50%      629.79000    639.850000    618.130000    630.830000    7367.614526   \n",
       "75%     1454.14500   1512.965000   1440.095000   1502.495000   11954.181722   \n",
       "max    19650.02000  19891.990000  19010.000000  19650.010000  165763.024424   \n",
       "\n",
       "            vol_cur            wp            ts  \n",
       "count  9.990000e+02    999.000000  9.990000e+02  \n",
       "mean   3.553735e+07   1842.224578  1.472170e+09  \n",
       "std    1.097365e+08   3165.632076  2.492906e+07  \n",
       "min    7.925465e+05    215.969046  1.429056e+09  \n",
       "25%    2.297687e+06    384.227045  1.450613e+09  \n",
       "50%    3.484114e+06    632.673702  1.472170e+09  \n",
       "75%    1.985804e+07   1471.613323  1.493726e+09  \n",
       "max    1.393385e+09  19537.276941  1.515283e+09  "
      ]
     },
     "execution_count": 11,
     "metadata": {},
     "output_type": "execute_result"
    }
   ],
   "source": [
    "bit_df.describe()"
   ]
  },
  {
   "cell_type": "code",
   "execution_count": 12,
   "metadata": {},
   "outputs": [
    {
     "data": {
      "text/html": [
       "<div>\n",
       "<style scoped>\n",
       "    .dataframe tbody tr th:only-of-type {\n",
       "        vertical-align: middle;\n",
       "    }\n",
       "\n",
       "    .dataframe tbody tr th {\n",
       "        vertical-align: top;\n",
       "    }\n",
       "\n",
       "    .dataframe thead th {\n",
       "        text-align: right;\n",
       "    }\n",
       "</style>\n",
       "<table border=\"1\" class=\"dataframe\">\n",
       "  <thead>\n",
       "    <tr style=\"text-align: right;\">\n",
       "      <th></th>\n",
       "      <th>open</th>\n",
       "      <th>hi</th>\n",
       "      <th>lo</th>\n",
       "      <th>close</th>\n",
       "      <th>vol_btc</th>\n",
       "      <th>vol_cur</th>\n",
       "      <th>wp</th>\n",
       "      <th>ts</th>\n",
       "    </tr>\n",
       "  </thead>\n",
       "  <tbody>\n",
       "    <tr>\n",
       "      <th>open</th>\n",
       "      <td>1.000000</td>\n",
       "      <td>0.997562</td>\n",
       "      <td>0.996579</td>\n",
       "      <td>0.997140</td>\n",
       "      <td>0.526337</td>\n",
       "      <td>0.836192</td>\n",
       "      <td>0.998800</td>\n",
       "      <td>0.650204</td>\n",
       "    </tr>\n",
       "    <tr>\n",
       "      <th>hi</th>\n",
       "      <td>0.997562</td>\n",
       "      <td>1.000000</td>\n",
       "      <td>0.996036</td>\n",
       "      <td>0.999194</td>\n",
       "      <td>0.540711</td>\n",
       "      <td>0.852631</td>\n",
       "      <td>0.998989</td>\n",
       "      <td>0.646562</td>\n",
       "    </tr>\n",
       "    <tr>\n",
       "      <th>lo</th>\n",
       "      <td>0.996579</td>\n",
       "      <td>0.996036</td>\n",
       "      <td>1.000000</td>\n",
       "      <td>0.997887</td>\n",
       "      <td>0.503904</td>\n",
       "      <td>0.807838</td>\n",
       "      <td>0.998538</td>\n",
       "      <td>0.658249</td>\n",
       "    </tr>\n",
       "    <tr>\n",
       "      <th>close</th>\n",
       "      <td>0.997140</td>\n",
       "      <td>0.999194</td>\n",
       "      <td>0.997887</td>\n",
       "      <td>1.000000</td>\n",
       "      <td>0.527407</td>\n",
       "      <td>0.838351</td>\n",
       "      <td>0.999277</td>\n",
       "      <td>0.650609</td>\n",
       "    </tr>\n",
       "    <tr>\n",
       "      <th>vol_btc</th>\n",
       "      <td>0.526337</td>\n",
       "      <td>0.540711</td>\n",
       "      <td>0.503904</td>\n",
       "      <td>0.527407</td>\n",
       "      <td>1.000000</td>\n",
       "      <td>0.689433</td>\n",
       "      <td>0.525290</td>\n",
       "      <td>0.347119</td>\n",
       "    </tr>\n",
       "    <tr>\n",
       "      <th>vol_cur</th>\n",
       "      <td>0.836192</td>\n",
       "      <td>0.852631</td>\n",
       "      <td>0.807838</td>\n",
       "      <td>0.838351</td>\n",
       "      <td>0.689433</td>\n",
       "      <td>1.000000</td>\n",
       "      <td>0.833692</td>\n",
       "      <td>0.445663</td>\n",
       "    </tr>\n",
       "    <tr>\n",
       "      <th>wp</th>\n",
       "      <td>0.998800</td>\n",
       "      <td>0.998989</td>\n",
       "      <td>0.998538</td>\n",
       "      <td>0.999277</td>\n",
       "      <td>0.525290</td>\n",
       "      <td>0.833692</td>\n",
       "      <td>1.000000</td>\n",
       "      <td>0.652363</td>\n",
       "    </tr>\n",
       "    <tr>\n",
       "      <th>ts</th>\n",
       "      <td>0.650204</td>\n",
       "      <td>0.646562</td>\n",
       "      <td>0.658249</td>\n",
       "      <td>0.650609</td>\n",
       "      <td>0.347119</td>\n",
       "      <td>0.445663</td>\n",
       "      <td>0.652363</td>\n",
       "      <td>1.000000</td>\n",
       "    </tr>\n",
       "  </tbody>\n",
       "</table>\n",
       "</div>"
      ],
      "text/plain": [
       "             open        hi        lo     close   vol_btc   vol_cur        wp  \\\n",
       "open     1.000000  0.997562  0.996579  0.997140  0.526337  0.836192  0.998800   \n",
       "hi       0.997562  1.000000  0.996036  0.999194  0.540711  0.852631  0.998989   \n",
       "lo       0.996579  0.996036  1.000000  0.997887  0.503904  0.807838  0.998538   \n",
       "close    0.997140  0.999194  0.997887  1.000000  0.527407  0.838351  0.999277   \n",
       "vol_btc  0.526337  0.540711  0.503904  0.527407  1.000000  0.689433  0.525290   \n",
       "vol_cur  0.836192  0.852631  0.807838  0.838351  0.689433  1.000000  0.833692   \n",
       "wp       0.998800  0.998989  0.998538  0.999277  0.525290  0.833692  1.000000   \n",
       "ts       0.650204  0.646562  0.658249  0.650609  0.347119  0.445663  0.652363   \n",
       "\n",
       "               ts  \n",
       "open     0.650204  \n",
       "hi       0.646562  \n",
       "lo       0.658249  \n",
       "close    0.650609  \n",
       "vol_btc  0.347119  \n",
       "vol_cur  0.445663  \n",
       "wp       0.652363  \n",
       "ts       1.000000  "
      ]
     },
     "execution_count": 12,
     "metadata": {},
     "output_type": "execute_result"
    }
   ],
   "source": [
    "bit_df.corr()"
   ]
  },
  {
   "cell_type": "code",
   "execution_count": 13,
   "metadata": {},
   "outputs": [],
   "source": [
    "full_x = bit_df[['hi', 'lo', 'close', 'vol_btc', 'vol_cur', 'wp', 'ts']]\n",
    "full_y = bit_df['open']"
   ]
  },
  {
   "cell_type": "code",
   "execution_count": 14,
   "metadata": {},
   "outputs": [],
   "source": [
    "from sklearn.model_selection import train_test_split\n",
    "full_x_train, full_x_test, full_y_train, full_t_test = train_test_split(full_x, full_y, random_state = 2)"
   ]
  },
  {
   "cell_type": "code",
   "execution_count": 15,
   "metadata": {},
   "outputs": [],
   "source": [
    "from sklearn.preprocessing import StandardScaler\n",
    "scaler = StandardScaler()\n",
    "full_x_train = scaler.fit_transform(full_x_train)\n",
    "full_x_test = scaler.transform(full_x_test)"
   ]
  },
  {
   "cell_type": "code",
   "execution_count": 16,
   "metadata": {},
   "outputs": [
    {
     "data": {
      "text/plain": [
       "(749, 7)"
      ]
     },
     "execution_count": 16,
     "metadata": {},
     "output_type": "execute_result"
    }
   ],
   "source": [
    "full_x_train.shape"
   ]
  },
  {
   "cell_type": "code",
   "execution_count": 17,
   "metadata": {},
   "outputs": [],
   "source": [
    "x_train = full_x_train[:, 6]\n",
    "x_test = full_x_test[:, 6]\n",
    "y_train = full_y_train\n",
    "y_test = full_t_test"
   ]
  },
  {
   "cell_type": "markdown",
   "metadata": {},
   "source": [
    "## First part : Predict the open price from the ts component."
   ]
  },
  {
   "cell_type": "code",
   "execution_count": 18,
   "metadata": {
    "scrolled": false
   },
   "outputs": [
    {
     "data": {
      "text/plain": [
       "LinearRegression(copy_X=True, fit_intercept=True, n_jobs=None, normalize=False)"
      ]
     },
     "execution_count": 18,
     "metadata": {},
     "output_type": "execute_result"
    }
   ],
   "source": [
    "from sklearn.linear_model import LinearRegression\n",
    "model = LinearRegression()\n",
    "x_train = x_train.reshape(-1, 1)\n",
    "model.fit(x_train, y_train)"
   ]
  },
  {
   "cell_type": "code",
   "execution_count": 19,
   "metadata": {},
   "outputs": [],
   "source": [
    "x_test = x_test.reshape(-1, 1)\n",
    "predicted = model.predict(x_test)"
   ]
  },
  {
   "cell_type": "code",
   "execution_count": 20,
   "metadata": {},
   "outputs": [],
   "source": [
    "from sklearn.metrics import mean_absolute_error as mae"
   ]
  },
  {
   "cell_type": "code",
   "execution_count": 21,
   "metadata": {},
   "outputs": [
    {
     "data": {
      "text/plain": [
       "1419.2864831618238"
      ]
     },
     "execution_count": 21,
     "metadata": {},
     "output_type": "execute_result"
    }
   ],
   "source": [
    "mae(predicted, y_test)"
   ]
  },
  {
   "cell_type": "markdown",
   "metadata": {},
   "source": [
    "## Second Part : Predict tomorrow's close price by today's data"
   ]
  },
  {
   "cell_type": "code",
   "execution_count": 22,
   "metadata": {},
   "outputs": [],
   "source": [
    "full_x = bit_df[['open', 'hi', 'lo', 'close', 'vol_btc', 'vol_cur', 'wp', 'ts']]\n",
    "full_y = bit_df['close']"
   ]
  },
  {
   "cell_type": "code",
   "execution_count": 23,
   "metadata": {},
   "outputs": [
    {
     "data": {
      "text/plain": [
       "(999, 8)"
      ]
     },
     "execution_count": 23,
     "metadata": {},
     "output_type": "execute_result"
    }
   ],
   "source": [
    "full_x.shape"
   ]
  },
  {
   "cell_type": "code",
   "execution_count": 24,
   "metadata": {},
   "outputs": [
    {
     "data": {
      "text/plain": [
       "(999,)"
      ]
     },
     "execution_count": 24,
     "metadata": {},
     "output_type": "execute_result"
    }
   ],
   "source": [
    "full_y.shape"
   ]
  },
  {
   "cell_type": "markdown",
   "metadata": {},
   "source": [
    "### We are trying to predict the close price for the next day based on the previous day's data, so we will take training data according to that"
   ]
  },
  {
   "cell_type": "code",
   "execution_count": 25,
   "metadata": {},
   "outputs": [],
   "source": [
    "full_x = full_x.iloc[:998, :]    # we are taking all rows except the last as the feature\n",
    "full_y = full_y[1:]              # the variable to be predicted is in the immediate next row"
   ]
  },
  {
   "cell_type": "code",
   "execution_count": 26,
   "metadata": {},
   "outputs": [
    {
     "data": {
      "text/plain": [
       "(998, 8)"
      ]
     },
     "execution_count": 26,
     "metadata": {},
     "output_type": "execute_result"
    }
   ],
   "source": [
    "full_x.shape"
   ]
  },
  {
   "cell_type": "code",
   "execution_count": 27,
   "metadata": {},
   "outputs": [
    {
     "data": {
      "text/plain": [
       "(998,)"
      ]
     },
     "execution_count": 27,
     "metadata": {},
     "output_type": "execute_result"
    }
   ],
   "source": [
    "full_y.shape"
   ]
  },
  {
   "cell_type": "code",
   "execution_count": 28,
   "metadata": {},
   "outputs": [],
   "source": [
    "x_train, x_test, y_train, y_test = train_test_split(full_x, full_y, random_state = 2)"
   ]
  },
  {
   "cell_type": "code",
   "execution_count": 29,
   "metadata": {},
   "outputs": [],
   "source": [
    "from sklearn.preprocessing import StandardScaler\n",
    "scaler = StandardScaler()\n",
    "X_train = scaler.fit_transform(x_train)\n",
    "X_test = scaler.transform(x_test)"
   ]
  },
  {
   "cell_type": "code",
   "execution_count": 30,
   "metadata": {},
   "outputs": [
    {
     "data": {
      "text/plain": [
       "LinearRegression(copy_X=True, fit_intercept=True, n_jobs=None, normalize=False)"
      ]
     },
     "execution_count": 30,
     "metadata": {},
     "output_type": "execute_result"
    }
   ],
   "source": [
    "model = LinearRegression()\n",
    "model.fit(X_train, y_train)"
   ]
  },
  {
   "cell_type": "code",
   "execution_count": 31,
   "metadata": {},
   "outputs": [],
   "source": [
    "predicted = model.predict(X_test)"
   ]
  },
  {
   "cell_type": "code",
   "execution_count": 32,
   "metadata": {},
   "outputs": [
    {
     "data": {
      "text/plain": [
       "85.37116093152476"
      ]
     },
     "execution_count": 32,
     "metadata": {},
     "output_type": "execute_result"
    }
   ],
   "source": [
    "mae(predicted, y_test)"
   ]
  },
  {
   "cell_type": "markdown",
   "metadata": {},
   "source": [
    "## Since the mean absolute error is satisfactory we can now train the model using all the data that we have in order to make accurate prediction"
   ]
  },
  {
   "cell_type": "markdown",
   "metadata": {},
   "source": [
    "### To predict what will be tomorrow's closing price we will pass all the values for today (i.e. the last row of bit_df) to the model"
   ]
  },
  {
   "cell_type": "code",
   "execution_count": 33,
   "metadata": {},
   "outputs": [],
   "source": [
    "from sklearn.preprocessing import StandardScaler\n",
    "scaler = StandardScaler()\n",
    "X_train = scaler.fit_transform(full_x)\n",
    "feed = scaler.transform(bit_df.iloc[-2:])"
   ]
  },
  {
   "cell_type": "code",
   "execution_count": 34,
   "metadata": {},
   "outputs": [
    {
     "data": {
      "text/plain": [
       "LinearRegression(copy_X=True, fit_intercept=True, n_jobs=None, normalize=False)"
      ]
     },
     "execution_count": 34,
     "metadata": {},
     "output_type": "execute_result"
    }
   ],
   "source": [
    "model = LinearRegression()\n",
    "model.fit(X_train, full_y)"
   ]
  },
  {
   "cell_type": "code",
   "execution_count": 35,
   "metadata": {},
   "outputs": [
    {
     "data": {
      "text/plain": [
       "array([[4.83271523, 4.6124446 , 4.94593735, 4.81534861, 0.34145895,\n",
       "        1.77275702, 4.73750721, 1.73031615],\n",
       "       [4.87708932, 4.59463141, 4.77683584, 4.52352037, 0.18630058,\n",
       "        1.50448508, 4.69438922, 1.7337872 ]])"
      ]
     },
     "execution_count": 35,
     "metadata": {},
     "output_type": "execute_result"
    }
   ],
   "source": [
    "feed"
   ]
  },
  {
   "cell_type": "code",
   "execution_count": 36,
   "metadata": {},
   "outputs": [],
   "source": [
    "y = model.predict(feed)"
   ]
  },
  {
   "cell_type": "markdown",
   "metadata": {},
   "source": [
    "the actual close price of the last data point is"
   ]
  },
  {
   "cell_type": "code",
   "execution_count": 37,
   "metadata": {},
   "outputs": [
    {
     "data": {
      "text/plain": [
       "16174.22"
      ]
     },
     "execution_count": 37,
     "metadata": {},
     "output_type": "execute_result"
    }
   ],
   "source": [
    "full_y[-1]"
   ]
  },
  {
   "cell_type": "markdown",
   "metadata": {},
   "source": [
    "predicted close price for last data point is"
   ]
  },
  {
   "cell_type": "code",
   "execution_count": 38,
   "metadata": {},
   "outputs": [
    {
     "data": {
      "text/plain": [
       "17388.196250754147"
      ]
     },
     "execution_count": 38,
     "metadata": {},
     "output_type": "execute_result"
    }
   ],
   "source": [
    "y[-2]"
   ]
  },
  {
   "cell_type": "markdown",
   "metadata": {},
   "source": [
    "#### finally this is the prediction of tomorrow's close price based on today's data i.e the data from the last row "
   ]
  },
  {
   "cell_type": "code",
   "execution_count": 39,
   "metadata": {},
   "outputs": [
    {
     "data": {
      "text/plain": [
       "15999.740639953881"
      ]
     },
     "execution_count": 39,
     "metadata": {},
     "output_type": "execute_result"
    }
   ],
   "source": [
    "y[-1]"
   ]
  },
  {
   "cell_type": "markdown",
   "metadata": {},
   "source": [
    "## This is the predicted tomorrow's close price"
   ]
  },
  {
   "cell_type": "code",
   "execution_count": null,
   "metadata": {},
   "outputs": [],
   "source": []
  }
 ],
 "metadata": {
  "kernelspec": {
   "display_name": "Python 3",
   "language": "python",
   "name": "python3"
  },
  "language_info": {
   "codemirror_mode": {
    "name": "ipython",
    "version": 3
   },
   "file_extension": ".py",
   "mimetype": "text/x-python",
   "name": "python",
   "nbconvert_exporter": "python",
   "pygments_lexer": "ipython3",
   "version": "3.7.7"
  }
 },
 "nbformat": 4,
 "nbformat_minor": 2
}
